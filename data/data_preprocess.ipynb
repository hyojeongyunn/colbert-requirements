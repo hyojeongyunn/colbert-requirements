{
 "cells": [
  {
   "cell_type": "markdown",
   "metadata": {},
   "source": [
    "# Data preprocessing notebook\n",
    "\n",
    "For `Vaswani`, you have to convert files into `.tsv` files.  \n",
    "This notebook is a tool for the conversion.  \n",
    "\n",
    "If you run the all cells below, you can get below `.tsv` files.\n",
    "- `doc-text.tsv`\n",
    "- `query-text.tsv`\n",
    "- `rlv-ass.tsv`\n",
    "- `qrel.tsv`\n",
    "\n",
    "## required packages\n",
    "- pandas"
   ]
  },
  {
   "cell_type": "code",
   "execution_count": 1,
   "metadata": {},
   "outputs": [],
   "source": [
    "import pandas as pd\n",
    "import csv\n",
    "import os"
   ]
  },
  {
   "cell_type": "code",
   "execution_count": 2,
   "metadata": {},
   "outputs": [],
   "source": [
    "# utility functions\n",
    "\n",
    "def delete_first_row_tsv(file_path):\n",
    "    temp_file_path = file_path + '.temp'\n",
    "\n",
    "    with open(file_path, 'r', newline='') as f_input, open(temp_file_path, 'w', newline='') as f_output:\n",
    "        reader = csv.reader(f_input, delimiter='\\t')\n",
    "        writer = csv.writer(f_output, delimiter='\\t')\n",
    "\n",
    "        next(reader)\n",
    "\n",
    "        for row in reader:\n",
    "            writer.writerow(row)\n",
    "\n",
    "    os.rename(temp_file_path, file_path)\n",
    "\n",
    "def delete_last_row_tsv(file_path):\n",
    "    temp_file_path = file_path + '.temp'\n",
    "\n",
    "    with open(file_path, 'r', newline='') as f_input:\n",
    "        rows = list(csv.reader(f_input, delimiter='\\t'))[:-1]\n",
    "\n",
    "    with open(temp_file_path, 'w', newline='') as f_output:\n",
    "        writer = csv.writer(f_output, delimiter='\\t')\n",
    "        writer.writerows(rows)\n",
    "\n",
    "    os.rename(temp_file_path, file_path)"
   ]
  },
  {
   "cell_type": "code",
   "execution_count": 9,
   "metadata": {},
   "outputs": [],
   "source": [
    "# doc-text(collection) preprocess\n",
    "\n",
    "SEPERATOR = '/'\n",
    "\n",
    "with open(\"/home/requirements/data/Vaswani/doc-text\", \"r\") as file:\n",
    "    docs = file.read().replace('\\n', '')\n",
    "\n",
    "seperated_docs = docs.split(SEPERATOR)\n",
    "\n",
    "data = []\n",
    "count_digits = lambda number: len(str(number))\n",
    "\n",
    "for pid, passage in enumerate(seperated_docs, 0):\n",
    "    processed_passage = passage[count_digits(pid+1):]\n",
    "    data.append((pid, processed_passage))\n",
    "\n",
    "df = pd.DataFrame(data, columns=['pid', 'passage'])\n",
    "df.to_csv('doc-text.tsv', sep='\\t', index=False)\n",
    "delete_first_row_tsv('doc-text.tsv')\n",
    "delete_last_row_tsv('doc-text.tsv')\n",
    "os.rename('doc-text.tsv', 'Vaswani/doc-text.tsv')"
   ]
  },
  {
   "cell_type": "code",
   "execution_count": 13,
   "metadata": {},
   "outputs": [],
   "source": [
    "# query-text(query) preprocess\n",
    "\n",
    "SEPERATOR = '/'\n",
    "\n",
    "with open(\"/home/requirements/data/Vaswani/query-text\", \"r\") as file:\n",
    "    docs = file.read().replace('\\n', '')\n",
    "\n",
    "seperated_docs = docs.split(SEPERATOR)\n",
    "\n",
    "data = []\n",
    "count_digits = lambda number: len(str(number))\n",
    "\n",
    "for pid, passage in enumerate(seperated_docs, 0):\n",
    "    processed_passage = passage[count_digits(pid+1):]\n",
    "    data.append((pid+1, processed_passage))\n",
    "\n",
    "df = pd.DataFrame(data, columns=['qid', 'query'])\n",
    "df.to_csv('query-text.tsv', sep='\\t', index=False)\n",
    "delete_first_row_tsv('query-text.tsv')\n",
    "delete_last_row_tsv('query-text.tsv')\n",
    "os.rename('query-text.tsv', 'Vaswani/query-text.tsv')"
   ]
  },
  {
   "cell_type": "code",
   "execution_count": 14,
   "metadata": {},
   "outputs": [],
   "source": [
    "# rlv-ass(relevant result assessment) preprocess\n",
    "\n",
    "result_array = []\n",
    "with open(\"/home/requirements/data/Vaswani/rlv-ass\", \"r\") as file:\n",
    "    temp_list = []\n",
    "\n",
    "    for line in file:\n",
    "        line = line.strip()\n",
    "\n",
    "        if line:\n",
    "            numbers = line.split()\n",
    "            temp_list.extend(numbers)\n",
    "            if '/' in line:\n",
    "                result_array.append(temp_list)\n",
    "                temp_list = []\n",
    "\n",
    "data = []\n",
    "for array in result_array:\n",
    "    array = [int(i) for i in array[:-1]]\n",
    "    for x in array[1:]:\n",
    "        data.append((array[0], x))\n",
    "\n",
    "df = pd.DataFrame(data, columns=['qid', 'related passage'])\n",
    "df.to_csv('rlv-ass.tsv', sep='\\t', index=False)\n",
    "os.rename('rlv-ass.tsv', 'Vaswani/rlv-ass.tsv')"
   ]
  },
  {
   "cell_type": "code",
   "execution_count": 19,
   "metadata": {},
   "outputs": [],
   "source": [
    "# qrel preprocess\n",
    "\n",
    "result_array = []\n",
    "with open(\"/home/requirements/data/Vaswani/rlv-ass\", \"r\") as file:\n",
    "    temp_list = []\n",
    "\n",
    "    for line in file:\n",
    "        line = line.strip()\n",
    "\n",
    "        if line:\n",
    "            numbers = line.split()\n",
    "            temp_list.extend(numbers)\n",
    "            if '/' in line:\n",
    "                result_array.append(temp_list)\n",
    "                temp_list = []\n",
    "\n",
    "data = []\n",
    "for array in result_array:\n",
    "    array = [int(i) for i in array[:-1]]\n",
    "    for x in array[1:]:\n",
    "        data.append((array[0], 0, x, 1))\n",
    "\n",
    "df = pd.DataFrame(data, columns=['qid', '0', 'related passage', '1'])\n",
    "df.to_csv('qrel.tsv', sep='\\t', index=False)\n",
    "delete_first_row_tsv('qrel.tsv')\n",
    "os.rename('qrel.tsv', 'Vaswani/qrel.tsv')"
   ]
  },
  {
   "cell_type": "markdown",
   "metadata": {},
   "source": [
    "For `MS MARCO`, in order to make reasonable analysis on candidate set/retrieved set, ...\n",
    "\n",
    "Create `quries.short.dev.tsv` and `top1000.short.dev`"
   ]
  },
  {
   "cell_type": "code",
   "execution_count": 4,
   "metadata": {},
   "outputs": [
    {
     "name": "stderr",
     "output_type": "stream",
     "text": [
      "/tmp/ipykernel_929061/928833482.py:16: SettingWithCopyWarning: \n",
      "A value is trying to be set on a copy of a slice from a DataFrame\n",
      "\n",
      "See the caveats in the documentation: https://pandas.pydata.org/pandas-docs/stable/user_guide/indexing.html#returning-a-view-versus-a-copy\n",
      "  query_short_df.drop_duplicates(inplace=True)\n"
     ]
    }
   ],
   "source": [
    "# short preprocess\n",
    "\n",
    "long_df = pd.read_csv(\"/home/requirements/data/MSMARCO/top1000.dev\", sep='\\t', names=['qid', 'pid', 'query', 'passage'])\n",
    "\n",
    "short_qids = long_df['qid'].unique()[100:200]\n",
    "short_df = long_df[long_df['qid'].isin(short_qids)]\n",
    "\n",
    "# top1000.short.dev\n",
    "top1000_short_df = short_df[['qid', 'pid', 'query', 'passage']]\n",
    "top1000_short_df.to_csv('top1000.short.dev', sep='\\t', index=False)\n",
    "delete_first_row_tsv('top1000.short.dev')\n",
    "os.rename('top1000.short.dev', 'MSMARCO/top1000.short.dev')\n",
    "\n",
    "# queries.short.dev.tsv\n",
    "query_short_df = short_df[['qid', 'query']]\n",
    "query_short_df.drop_duplicates(inplace=True)\n",
    "query_short_df.to_csv('queries.short.dev.tsv', sep='\\t', index=False)\n",
    "delete_first_row_tsv('queries.short.dev.tsv')\n",
    "os.rename('queries.short.dev.tsv', 'MSMARCO/queries.short.dev.tsv')"
   ]
  },
  {
   "cell_type": "code",
   "execution_count": 3,
   "metadata": {},
   "outputs": [],
   "source": [
    "long_df = pd.read_csv(\"/home/requirements/data/MSMARCO/top1000.dev\", sep='\\t', names=['qid', 'pid', 'query', 'passage'])\n",
    "qrel_long_df = pd.read_csv(\"/home/requirements/data/MSMARCO/qrels.dev.tsv\", sep='\\t', names=['qid', '0', 'pid', '1'])\n",
    "\n",
    "\n",
    "# qrels.short.dev.tsv\n",
    "\n",
    "short_qids = long_df['qid'].unique()[100:200]\n",
    "qrel_long_df = qrel_long_df[qrel_long_df['qid'].isin(short_qids)]\n",
    "qrel_long_df.to_csv('qrels.short.dev.tsv', sep='\\t', index=False)\n",
    "delete_first_row_tsv('qrels.short.dev.tsv')\n",
    "os.rename('qrels.short.dev.tsv', 'MSMARCO/qrels.short.dev.tsv')"
   ]
  },
  {
   "cell_type": "code",
   "execution_count": 5,
   "metadata": {},
   "outputs": [],
   "source": [
    "long_df = pd.read_csv(\"/home/requirements/data/MSMARCO/top1000.dev\", sep='\\t', names=['qid', 'pid', 'query', 'passage'])\n",
    "\n",
    "short_qids = long_df['qid'].unique()[100:200]\n",
    "short_df = long_df[long_df['qid'].isin(short_qids)]\n",
    "\n",
    "# qreltransformed.top1000.short.dev\n",
    "\n",
    "qreltransformed_top1000_short_df = pd.DataFrame({\n",
    "    'qid': short_df['qid'].tolist(),\n",
    "    '0': [0 for i in range(100000)],\n",
    "    'pid': short_df['pid'].tolist(),\n",
    "    '1': [1 for i in range(100000)]\n",
    "})\n",
    "qreltransformed_top1000_short_df.to_csv('qreltransformed.top1000.short.dev', sep='\\t', index=False)\n",
    "delete_first_row_tsv('qreltransformed.top1000.short.dev')\n",
    "os.rename('qreltransformed.top1000.short.dev', 'MSMARCO/qreltransformed.top1000.short.dev')"
   ]
  },
  {
   "cell_type": "markdown",
   "metadata": {},
   "source": [
    "collection 7130310 to 7409929"
   ]
  },
  {
   "cell_type": "code",
   "execution_count": 4,
   "metadata": {},
   "outputs": [],
   "source": [
    "import pandas as pd\n",
    "collection_df = pd.read_csv(\"/home/requirements/data/MSMARCO/collection.tsv\", sep='\\t', names=['pid', 'passage'])\n",
    "\n",
    "subset_df = collection_df.iloc[7130310:7409930]\n",
    "subset_df.to_csv('collection.51to52.tsv', sep='\\t', index=False)\n",
    "delete_first_row_tsv('collection.51to52.tsv')\n",
    "os.rename('collection.51to52.tsv', 'MSMARCO/collection.51to52.tsv')\n"
   ]
  },
  {
   "cell_type": "code",
   "execution_count": null,
   "metadata": {},
   "outputs": [],
   "source": []
  }
 ],
 "metadata": {
  "kernelspec": {
   "display_name": "preprocess",
   "language": "python",
   "name": "python3"
  },
  "language_info": {
   "codemirror_mode": {
    "name": "ipython",
    "version": 3
   },
   "file_extension": ".py",
   "mimetype": "text/x-python",
   "name": "python",
   "nbconvert_exporter": "python",
   "pygments_lexer": "ipython3",
   "version": "3.8.19"
  }
 },
 "nbformat": 4,
 "nbformat_minor": 2
}
