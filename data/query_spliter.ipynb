{
 "cells": [
  {
   "cell_type": "markdown",
   "metadata": {},
   "source": [
    "Query splitter"
   ]
  },
  {
   "cell_type": "code",
   "execution_count": 1,
   "metadata": {},
   "outputs": [],
   "source": [
    "import pandas as pd\n",
    "from collections import defaultdict\n",
    "import os\n",
    "import csv"
   ]
  },
  {
   "cell_type": "code",
   "execution_count": 2,
   "metadata": {},
   "outputs": [],
   "source": [
    "def delete_first_row_tsv(file_path):\n",
    "    temp_file_path = file_path + '.temp'\n",
    "\n",
    "    with open(file_path, 'r', newline='') as f_input, open(temp_file_path, 'w', newline='') as f_output:\n",
    "        reader = csv.reader(f_input, delimiter='\\t')\n",
    "        writer = csv.writer(f_output, delimiter='\\t')\n",
    "\n",
    "        next(reader)\n",
    "\n",
    "        for row in reader:\n",
    "            writer.writerow(row)\n",
    "\n",
    "    os.rename(temp_file_path, file_path)"
   ]
  },
  {
   "cell_type": "code",
   "execution_count": 3,
   "metadata": {},
   "outputs": [],
   "source": [
    "qrels_df = pd.read_csv('/home/requirements/data/MSMARCO/qrels.dev.tsv', names=['qid', '0', 'pid', '1'], sep='\\t')\n",
    "quries_df = pd.read_csv('/home/requirements/data/MSMARCO/queries.dev.tsv', names=['qid', 'text'], sep='\\t')\n",
    "grouped_qrels_df = qrels_df.groupby('qid')"
   ]
  },
  {
   "cell_type": "code",
   "execution_count": 20,
   "metadata": {},
   "outputs": [],
   "source": [
    "qrels = defaultdict(list)\n",
    "quries = defaultdict(list)\n",
    "\n",
    "for i, group in grouped_qrels_df:\n",
    "    idx = len(group) - 1\n",
    "    for _, (qid, _, pid, _) in group.iterrows():\n",
    "        # print(qid, pid)\n",
    "        qrels[idx].append((qid, 0, pid, 1))\n",
    "\n",
    "        text = quries_df[quries_df['qid']==qid]['text'].values[0]\n",
    "        quries[idx].append((qid, text))"
   ]
  },
  {
   "cell_type": "code",
   "execution_count": 25,
   "metadata": {},
   "outputs": [],
   "source": [
    "for key in qrels.keys():\n",
    "    df_qrels = pd.DataFrame(qrels[key], columns=['qid', '0', 'pid', '1'])\n",
    "    df_queries = pd.DataFrame(quries[key], columns=['qid', 'text'])\n",
    "    df_queries.drop_duplicates(inplace=True)\n",
    "\n",
    "    path_qrels = f'/home/requirements/data/MSMARCO_splited/qrels{key+1}.dev.tsv'\n",
    "    path_queries = f'/home/requirements/data/MSMARCO_splited/queries{key+1}.dev.tsv'\n",
    "\n",
    "    df_qrels.to_csv(path_qrels, sep='\\t', index=False)\n",
    "    delete_first_row_tsv(path_qrels)\n",
    "\n",
    "    df_queries.to_csv(path_queries, sep='\\t', index=False)\n",
    "    delete_first_row_tsv(path_queries)"
   ]
  },
  {
   "cell_type": "markdown",
   "metadata": {},
   "source": [
    "Query splitter - batch 51 to 52"
   ]
  },
  {
   "cell_type": "code",
   "execution_count": 4,
   "metadata": {},
   "outputs": [],
   "source": [
    "pid_in_batch = [i for i in range(7130310, 7409929)]\n",
    "\n",
    "\n",
    "qrels = []\n",
    "quries = []\n",
    "\n",
    "for _, (qid, _, pid, _) in qrels_df.iterrows():\n",
    "    if pid in pid_in_batch:\n",
    "        qrels.append((qid, 0, pid, 1))\n",
    "\n",
    "        text = quries_df[quries_df['qid']==qid]['text'].values[0]\n",
    "        quries.append((qid, text))\n",
    "\n",
    "\n",
    "df_qrels = pd.DataFrame(qrels, columns=['qid', '0', 'pid', '1'])\n",
    "df_queries = pd.DataFrame(quries, columns=['qid', 'text'])\n",
    "df_queries.drop_duplicates(inplace=True)\n",
    "\n",
    "path_qrels = f'/home/requirements/data/MSMARCO_51to52/qrels.dev.tsv'\n",
    "path_queries = f'/home/requirements/data/MSMARCO_51to52/queries.dev.tsv'\n",
    "\n",
    "df_qrels.to_csv(path_qrels, sep='\\t', index=False)\n",
    "delete_first_row_tsv(path_qrels)\n",
    "\n",
    "df_queries.to_csv(path_queries, sep='\\t', index=False)\n",
    "delete_first_row_tsv(path_queries)"
   ]
  },
  {
   "cell_type": "code",
   "execution_count": null,
   "metadata": {},
   "outputs": [],
   "source": []
  }
 ],
 "metadata": {
  "kernelspec": {
   "display_name": "preprocess",
   "language": "python",
   "name": "python3"
  },
  "language_info": {
   "codemirror_mode": {
    "name": "ipython",
    "version": 3
   },
   "file_extension": ".py",
   "mimetype": "text/x-python",
   "name": "python",
   "nbconvert_exporter": "python",
   "pygments_lexer": "ipython3",
   "version": "3.8.19"
  }
 },
 "nbformat": 4,
 "nbformat_minor": 2
}
